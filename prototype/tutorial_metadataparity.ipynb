{
 "cells": [
  {
   "cell_type": "code",
   "execution_count": 1,
   "metadata": {},
   "outputs": [
    {
     "ename": "ModuleNotFoundError",
     "evalue": "No module named 'pandas'",
     "output_type": "error",
     "traceback": [
      "\u001b[0;31m---------------------------------------------------------------------------\u001b[0m",
      "\u001b[0;31mModuleNotFoundError\u001b[0m                       Traceback (most recent call last)",
      "Cell \u001b[0;32mIn[1], line 1\u001b[0m\n\u001b[0;32m----> 1\u001b[0m \u001b[38;5;28;01mimport\u001b[39;00m \u001b[38;5;21;01mmetadataparity\u001b[39;00m\n\u001b[1;32m      2\u001b[0m \u001b[38;5;28;01mimport\u001b[39;00m \u001b[38;5;21;01mnumpy\u001b[39;00m \u001b[38;5;28;01mas\u001b[39;00m \u001b[38;5;21;01mnp\u001b[39;00m\n\u001b[1;32m      3\u001b[0m \u001b[38;5;28;01mimport\u001b[39;00m \u001b[38;5;21;01mpandas\u001b[39;00m \u001b[38;5;28;01mas\u001b[39;00m \u001b[38;5;21;01mpd\u001b[39;00m\n",
      "File \u001b[0;32m/workspaces/daml/prototype/metadataparity.py:3\u001b[0m\n\u001b[1;32m      1\u001b[0m \u001b[38;5;28;01mimport\u001b[39;00m \u001b[38;5;21;01mnumpy\u001b[39;00m \u001b[38;5;28;01mas\u001b[39;00m \u001b[38;5;21;01mnp\u001b[39;00m\n\u001b[1;32m      2\u001b[0m \u001b[38;5;28;01mimport\u001b[39;00m \u001b[38;5;21;01mscipy\u001b[39;00m\n\u001b[0;32m----> 3\u001b[0m \u001b[38;5;28;01mfrom\u001b[39;00m \u001b[38;5;21;01mfmow_utils\u001b[39;00m \u001b[38;5;28;01mimport\u001b[39;00m extrinsic_factors_fmow, get_fmow_boxes\n\u001b[1;32m      4\u001b[0m \u001b[38;5;28;01mfrom\u001b[39;00m \u001b[38;5;21;01mintrinsic_factors\u001b[39;00m \u001b[38;5;28;01mimport\u001b[39;00m intrinsic_factors_xywh\n\u001b[1;32m      5\u001b[0m \u001b[38;5;28;01mfrom\u001b[39;00m \u001b[38;5;21;01mmetadata\u001b[39;00m \u001b[38;5;28;01mimport\u001b[39;00m str2int, validate_dict\n",
      "File \u001b[0;32m/workspaces/daml/prototype/fmow_utils.py:6\u001b[0m\n\u001b[1;32m      3\u001b[0m \u001b[38;5;28;01mfrom\u001b[39;00m \u001b[38;5;21;01mtyping\u001b[39;00m \u001b[38;5;28;01mimport\u001b[39;00m Dict, Tuple\n\u001b[1;32m      5\u001b[0m \u001b[38;5;28;01mimport\u001b[39;00m \u001b[38;5;21;01mnumpy\u001b[39;00m \u001b[38;5;28;01mas\u001b[39;00m \u001b[38;5;21;01mnp\u001b[39;00m\n\u001b[0;32m----> 6\u001b[0m \u001b[38;5;28;01mimport\u001b[39;00m \u001b[38;5;21;01mpandas\u001b[39;00m \u001b[38;5;28;01mas\u001b[39;00m \u001b[38;5;21;01mpd\u001b[39;00m\n\u001b[1;32m      7\u001b[0m \u001b[38;5;28;01mfrom\u001b[39;00m \u001b[38;5;21;01mPIL\u001b[39;00m \u001b[38;5;28;01mimport\u001b[39;00m Image\n\u001b[1;32m     10\u001b[0m \u001b[38;5;28;01mdef\u001b[39;00m \u001b[38;5;21mget_image_sizes\u001b[39m(pth: \u001b[38;5;28mstr\u001b[39m) \u001b[38;5;241m-\u001b[39m\u001b[38;5;241m>\u001b[39m Dict:\n",
      "\u001b[0;31mModuleNotFoundError\u001b[0m: No module named 'pandas'"
     ]
    }
   ],
   "source": [
    "import metadataparity\n",
    "import numpy as np\n",
    "import pandas as pd\n",
    "from fmow_utils import extrinsic_factors_fmow, get_fmow_boxes\n",
    "from intrinsic_factors import intrinsic_factors_xywh"
   ]
  },
  {
   "cell_type": "code",
   "execution_count": null,
   "metadata": {},
   "outputs": [],
   "source": [
    "demo_classes = [\n",
    "    \"airport\",\n",
    "    \"border_checkpoint\",\n",
    "    \"dam\",\n",
    "    \"factory_or_powerplant\",\n",
    "    \"hospital\",\n",
    "    \"military_facility\",\n",
    "    \"nuclear_powerplant\",\n",
    "    \"oil_or_gas_facility\",\n",
    "    \"place_of_worship\",\n",
    "    \"port\",\n",
    "    \"prison\",\n",
    "    \"stadium\",\n",
    "    \"electric_substation\",\n",
    "    \"road_bridge\",\n",
    "]\n",
    "\n",
    "split_name = \"op\"\n",
    "country_code = \"RUS\"\n",
    "# load precomputed table of FMOW labels and metadata\n",
    "df = pd.read_pickle(\"../trainval_labels_factors.pkl\").reset_index(drop=True)\n",
    "df[\"class\"] = df[\"class\"].astype(\"category\")\n",
    "df[\"split\"] = df.split.astype(\"category\")\n",
    "\n",
    "\n",
    "df = df[df.country_code == \"RUS\"]\n",
    "\n",
    "df = df[df[\"class\"].isin(demo_classes)]\n",
    "\n",
    "# xywh\n",
    "boxes = get_fmow_boxes(df)\n",
    "img_sizes = np.column_stack((df.img_width.to_numpy(), df.img_height.to_numpy()))\n",
    "\n",
    "# gather intrinsic factors (dataset agnostic)\n",
    "int_fmow, int_categorical = intrinsic_factors_xywh(boxes, img_sizes)\n",
    "\n",
    "# gather extrinsic factors (custom to FMOW)\n",
    "ext_fmow, ext_categorical = extrinsic_factors_fmow(df)\n",
    "\n",
    "# class labels\n",
    "cls_fmow = {\"class\": df[\"class\"].to_numpy()}\n",
    "cls_categorical = {\"class\": True}\n",
    "\n",
    "# combine factors\n",
    "factors = {**cls_fmow, **int_fmow, **ext_fmow}\n",
    "is_categorical = {**cls_categorical, **int_categorical, **ext_categorical}\n",
    "# match insertion order --- done in MetadataBias class as well\n",
    "is_categorical = {key: is_categorical[key] for key in factors}\n",
    "\n",
    "# map non-numeric variables to integers\n",
    "orig_class = factors[\"class\"]"
   ]
  },
  {
   "cell_type": "code",
   "execution_count": null,
   "metadata": {},
   "outputs": [],
   "source": [
    "continuous_factors = [\n",
    "    \"box_width\",\n",
    "    \"box_height\",\n",
    "    \"box_area\",\n",
    "    \"box_aspect_ratio\",\n",
    "    \"dist_to_center\",\n",
    "    \"dist_to_edge\",\n",
    "    \"day_of_year\",\n",
    "    \"gsd\",\n",
    "    \"cloud_cover\",\n",
    "    \"target_azimuth_dbl\",\n",
    "    \"sun_azimuth_dbl\",\n",
    "    \"sun_elevation_dbl\",\n",
    "    \"off_nadir_angle_dbl\",\n",
    "]\n",
    "discrete_factors = [\"month\", \"season\", \"utm\", \"country_code\"]\n",
    "\n",
    "mdp = metadataparity.MetadataParity()\n",
    "mdp.set_factors(factors, continuous_factors)"
   ]
  },
  {
   "cell_type": "code",
   "execution_count": null,
   "metadata": {},
   "outputs": [],
   "source": [
    "chi_matrix, p_matrix = mdp.evaluate()"
   ]
  },
  {
   "cell_type": "code",
   "execution_count": null,
   "metadata": {},
   "outputs": [],
   "source": [
    "# Format output\n",
    "results = {}\n",
    "for i, f in enumerate(mdp.all_factor_names):\n",
    "    results[f] = f\"chisquare={chi_matrix[i]}, p={p_matrix[i]}\"\n",
    "print(results)"
   ]
  },
  {
   "cell_type": "code",
   "execution_count": null,
   "metadata": {},
   "outputs": [],
   "source": []
  }
 ],
 "metadata": {
  "kernelspec": {
   "display_name": "Python 3",
   "language": "python",
   "name": "python3"
  },
  "language_info": {
   "codemirror_mode": {
    "name": "ipython",
    "version": 3
   },
   "file_extension": ".py",
   "mimetype": "text/x-python",
   "name": "python",
   "nbconvert_exporter": "python",
   "pygments_lexer": "ipython3",
   "version": "3.11.7"
  }
 },
 "nbformat": 4,
 "nbformat_minor": 2
}
