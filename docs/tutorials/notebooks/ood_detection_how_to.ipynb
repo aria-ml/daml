{
 "cells": [
  {
   "cell_type": "markdown",
   "metadata": {},
   "source": [
    "## Initialize an Out-of-Distribution Detector with Custom Prediction Arguments\n"
   ]
  },
  {
   "cell_type": "code",
   "execution_count": null,
   "metadata": {},
   "outputs": [],
   "source": [
    "import numpy as np\n",
    "\n",
    "from daml.detectors import OOD_VAE\n",
    "from daml.models.tensorflow import VAE, create_model"
   ]
  },
  {
   "cell_type": "markdown",
   "metadata": {},
   "source": [
    "Create the dataset\n"
   ]
  },
  {
   "cell_type": "code",
   "execution_count": null,
   "metadata": {},
   "outputs": [],
   "source": [
    "dataset = np.ones((10, 3, 25, 25), dtype=np.float32)"
   ]
  },
  {
   "cell_type": "markdown",
   "metadata": {},
   "source": [
    "Below shows how to use custom prediction arguments\n"
   ]
  },
  {
   "cell_type": "code",
   "execution_count": null,
   "metadata": {},
   "outputs": [],
   "source": [
    "# instantiate an OOD detector metric\n",
    "metric = OOD_VAE(create_model(VAE, dataset[0].shape))\n",
    "\n",
    "# the training set has about 15% out-of-distribution\n",
    "# so set the fit threshold at 85%\n",
    "metric.fit(dataset, threshold_perc=85, batch_size=128, verbose=False)\n",
    "\n",
    "# detect OOD at the 'feature' level\n",
    "metric.predict(dataset, ood_type=\"feature\")"
   ]
  }
 ],
 "metadata": {
  "language_info": {
   "name": "python"
  }
 },
 "nbformat": 4,
 "nbformat_minor": 2
}
