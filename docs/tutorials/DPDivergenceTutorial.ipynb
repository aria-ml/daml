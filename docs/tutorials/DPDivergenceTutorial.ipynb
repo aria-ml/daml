{
 "cells": [
  {
   "cell_type": "markdown",
   "metadata": {},
   "source": [
    "# DP Divergence Estimation Tutorial\n"
   ]
  },
  {
   "cell_type": "code",
   "execution_count": null,
   "metadata": {
    "tags": [
     "remove_cell"
    ]
   },
   "outputs": [],
   "source": [
    "try:\n",
    "  import google.colab\n",
    "  !pip install -q daml\n",
    "except:\n",
    "  pass\n",
    "\n",
    "import os\n",
    "os.environ['TF_CPP_MIN_LOG_LEVEL'] = '3'"
   ]
  },
  {
   "cell_type": "code",
   "execution_count": null,
   "metadata": {},
   "outputs": [],
   "source": [
    "import numpy as np\n",
    "import tensorflow_datasets as tfds\n",
    "\n",
    "from daml.metrics.divergence import HP_MST"
   ]
  },
  {
   "cell_type": "markdown",
   "metadata": {},
   "source": [
    "## Loading in data\n",
    "Let's start by loading in tensorflow's MNIST dataset,\n",
    "then we will examine it.\n"
   ]
  },
  {
   "cell_type": "code",
   "execution_count": null,
   "metadata": {},
   "outputs": [],
   "source": [
    "# Load in the mnist dataset from tensorflow datasets\n",
    "images, ds_info = tfds.load(\n",
    "    \"mnist\",\n",
    "    split=\"train\",\n",
    "    with_info=True,\n",
    ")\n",
    "tfds.visualization.show_examples(images, ds_info)\n",
    "images = images.shuffle(images.cardinality())\n",
    "images = [i[\"image\"].numpy() for i in list(images.take(5000))]\n",
    "images = np.array(images)"
   ]
  },
  {
   "cell_type": "code",
   "execution_count": null,
   "metadata": {},
   "outputs": [],
   "source": [
    "print(\"Number of samples: \", len(images))\n",
    "print(\"Image shape:\", images[0].shape)"
   ]
  },
  {
   "cell_type": "markdown",
   "metadata": {},
   "source": [
    "## Calculate initial divergence\n",
    "Let's calculate the DP divergence between the first 2500 images and the second 2500 images from this sample.\n"
   ]
  },
  {
   "cell_type": "code",
   "execution_count": null,
   "metadata": {},
   "outputs": [],
   "source": [
    "data_a = images[0:2500].reshape((2500, -1))\n",
    "data_b = images[2500:].reshape((2500, -1))"
   ]
  },
  {
   "cell_type": "code",
   "execution_count": null,
   "metadata": {},
   "outputs": [],
   "source": [
    "metric = HP_MST(data_a=data_a, data_b=data_b)\n",
    "div = metric.evaluate()\n",
    "print(div)"
   ]
  },
  {
   "cell_type": "markdown",
   "metadata": {},
   "source": [
    "We estimate that the DP divergence between these (identically distributed) images sets is, as expected, at or close to 0."
   ]
  },
  {
   "cell_type": "markdown",
   "metadata": {},
   "source": [
    "## Loading in corrupted data\n",
    "Now let's load in a corrupted mnist dataset.\n"
   ]
  },
  {
   "cell_type": "code",
   "execution_count": null,
   "metadata": {},
   "outputs": [],
   "source": [
    "corrupted, ds_info = tfds.load(\n",
    "    \"mnist_corrupted/translate\",\n",
    "    split=\"train\",\n",
    "    with_info=True,\n",
    ")\n",
    "tfds.visualization.show_examples(corrupted, ds_info)\n",
    "corrupted = corrupted.shuffle(corrupted.cardinality())\n",
    "corrupted = [i[\"image\"].numpy() for i in list(corrupted.take(2500))]\n",
    "corrupted = np.array(corrupted)"
   ]
  },
  {
   "cell_type": "code",
   "execution_count": null,
   "metadata": {},
   "outputs": [],
   "source": [
    "print(\"Number of corrupted samples: \", len(corrupted))\n",
    "print(\"Corrupted image shape:\", corrupted[0].shape)"
   ]
  },
  {
   "cell_type": "markdown",
   "metadata": {},
   "source": [
    "## Calculate corrupted divergence\n",
    "Now lets calculate the DP Divergence between this corrupted dataset and the original images\n"
   ]
  },
  {
   "cell_type": "code",
   "execution_count": null,
   "metadata": {},
   "outputs": [],
   "source": [
    "metric.data_b = corrupted.reshape((2500, -1))\n",
    "div = metric.evaluate()\n",
    "print(div)"
   ]
  },
  {
   "cell_type": "markdown",
   "metadata": {},
   "source": [
    "We conclude that the translated MNIST images are significantly different from the original images.\n"
   ]
  }
 ],
 "metadata": {
  "kernelspec": {
   "display_name": "Python 3 (ipykernel)",
   "language": "python",
   "name": "python3"
  },
  "language_info": {
   "codemirror_mode": {
    "name": "ipython",
    "version": 3
   },
   "file_extension": ".py",
   "mimetype": "text/x-python",
   "name": "python",
   "nbconvert_exporter": "python",
   "pygments_lexer": "ipython3",
   "version": "3.11.7"
  }
 },
 "nbformat": 4,
 "nbformat_minor": 4
}
