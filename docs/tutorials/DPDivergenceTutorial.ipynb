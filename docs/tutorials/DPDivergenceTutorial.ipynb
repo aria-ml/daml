{
 "cells": [
  {
   "cell_type": "markdown",
   "metadata": {},
   "source": [
    "### DP Divergence Estimation Tutorial\n"
   ]
  },
  {
   "cell_type": "code",
   "execution_count": null,
   "metadata": {},
   "outputs": [],
   "source": [
    "import numpy as np\n",
    "import tensorflow as tf\n",
    "import tensorflow_datasets as tfds\n",
    "\n",
    "from daml.datasets import DamlDataset\n",
    "from daml.metrics.divergence import HP_MST\n",
    "\n",
    "tf.random.set_seed(108)"
   ]
  },
  {
   "cell_type": "markdown",
   "metadata": {},
   "source": [
    "#### Loading in data\n",
    "Let's start by loading in tensorflow's MNIST dataset,\n",
    "then we will examine it.\n"
   ]
  },
  {
   "cell_type": "code",
   "execution_count": null,
   "metadata": {},
   "outputs": [],
   "source": [
    "# Load in the mnist dataset from tensorflow datasets\n",
    "(images, ds_info) = tfds.load(\n",
    "    \"mnist\",\n",
    "    split=\"train\",\n",
    "    with_info=True,\n",
    ")  # type: ignore\n",
    "tfds.visualization.show_examples(images,ds_info)\n",
    "images = images.shuffle(images.cardinality())\n",
    "images = [i[\"image\"].numpy() for i in list(images.take(5000))]\n",
    "images = np.array(images)"
   ]
  },
  {
   "cell_type": "code",
   "execution_count": null,
   "metadata": {},
   "outputs": [],
   "source": [
    "print(\"Number of samples: \", len(images))\n",
    "print(\"Image shape:\", images[0].shape)"
   ]
  },
  {
   "cell_type": "markdown",
   "metadata": {},
   "source": [
    "#### Calculate initial divergence\n",
    "Let's calculate the DP divergence between the first 2500 images and the second 2500 images from this sample.\n"
   ]
  },
  {
   "cell_type": "code",
   "execution_count": null,
   "metadata": {},
   "outputs": [],
   "source": [
    "im1 = images[0:2500]\n",
    "im2 = images[2500:]"
   ]
  },
  {
   "cell_type": "code",
   "execution_count": null,
   "metadata": {},
   "outputs": [],
   "source": [
    "metric = HP_MST()\n",
    "div = metric.evaluate(\n",
    "    DamlDataset(im1.reshape((2500, -1))),\n",
    "    DamlDataset(im2.reshape((2500, -1)))\n",
    ")\n",
    "print(div)"
   ]
  },
  {
   "cell_type": "markdown",
   "metadata": {},
   "source": [
    "We estimate that the DP divergence between these (identically distributed) images sets is, as expected, close to 0.\n"
   ]
  },
  {
   "cell_type": "markdown",
   "metadata": {},
   "source": [
    "#### Loading in corrupted data\n",
    "Now let's load in a corrupted mnist dataset.\n"
   ]
  },
  {
   "cell_type": "code",
   "execution_count": null,
   "metadata": {},
   "outputs": [],
   "source": [
    "corr_images,ds_info = tfds.load(\"mnist_corrupted/translate\",\n",
    "split=\"train\",\n",
    "with_info=True,\n",
    ")  # type: ignore  # type: ignore\n",
    "tfds.visualization.show_examples(corr_images,ds_info)\n",
    "corr_images = corr_images.shuffle(corr_images.cardinality())\n",
    "corr_images = [i[\"image\"].numpy() for i in list(corr_images.take(2500))]\n",
    "corr_images = np.array(corr_images)"
   ]
  },
  {
   "cell_type": "code",
   "execution_count": null,
   "metadata": {},
   "outputs": [],
   "source": [
    "np.shape(corr_images)"
   ]
  },
  {
   "cell_type": "markdown",
   "metadata": {},
   "source": [
    "#### Calculate corrupted divergence\n",
    "Now lets calculate the DP Divergence between this corrupted dataset and the original images\n"
   ]
  },
  {
   "cell_type": "code",
   "execution_count": null,
   "metadata": {},
   "outputs": [],
   "source": [
    "div = metric.evaluate(\n",
    "    DamlDataset(im1.reshape((2500, -1))),\n",
    "    DamlDataset(corr_images.reshape((2500, -1)))\n",
    ")\n",
    "print(div)"
   ]
  },
  {
   "cell_type": "markdown",
   "metadata": {},
   "source": [
    "We conclude that the translated MNIST images are significantly different from the original images.\n"
   ]
  }
 ],
 "metadata": {
  "kernelspec": {
   "display_name": "Python 3 (ipykernel)",
   "language": "python",
   "name": "python3"
  },
  "language_info": {
   "codemirror_mode": {
    "name": "ipython",
    "version": 3
   },
   "file_extension": ".py",
   "mimetype": "text/x-python",
   "name": "python",
   "nbconvert_exporter": "python",
   "pygments_lexer": "ipython3",
   "version": "3.11.6"
  }
 },
 "nbformat": 4,
 "nbformat_minor": 4
}
